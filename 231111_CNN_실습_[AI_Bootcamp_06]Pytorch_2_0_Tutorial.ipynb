{
  "nbformat": 4,
  "nbformat_minor": 0,
  "metadata": {
    "colab": {
      "provenance": [],
      "gpuType": "T4",
      "include_colab_link": true
    },
    "kernelspec": {
      "name": "python3",
      "display_name": "Python 3"
    },
    "language_info": {
      "name": "python"
    },
    "accelerator": "GPU",
    "gpuClass": "standard",
    "widgets": {
      "application/vnd.jupyter.widget-state+json": {
        "51ec1741b98b4befa485172e17e8af9e": {
          "model_module": "@jupyter-widgets/controls",
          "model_name": "HBoxModel",
          "model_module_version": "1.5.0",
          "state": {
            "_dom_classes": [],
            "_model_module": "@jupyter-widgets/controls",
            "_model_module_version": "1.5.0",
            "_model_name": "HBoxModel",
            "_view_count": null,
            "_view_module": "@jupyter-widgets/controls",
            "_view_module_version": "1.5.0",
            "_view_name": "HBoxView",
            "box_style": "",
            "children": [
              "IPY_MODEL_e004ade09c664a68a081645d20316b09",
              "IPY_MODEL_4b0859bdbfff40419d858218ac331524",
              "IPY_MODEL_3f5f354cef9342df95e23d42cff120b4"
            ],
            "layout": "IPY_MODEL_001025ab39714432bff0395e5a1c36e4"
          }
        },
        "e004ade09c664a68a081645d20316b09": {
          "model_module": "@jupyter-widgets/controls",
          "model_name": "HTMLModel",
          "model_module_version": "1.5.0",
          "state": {
            "_dom_classes": [],
            "_model_module": "@jupyter-widgets/controls",
            "_model_module_version": "1.5.0",
            "_model_name": "HTMLModel",
            "_view_count": null,
            "_view_module": "@jupyter-widgets/controls",
            "_view_module_version": "1.5.0",
            "_view_name": "HTMLView",
            "description": "",
            "description_tooltip": null,
            "layout": "IPY_MODEL_456a7947218e472285d40e6e3017fae1",
            "placeholder": "​",
            "style": "IPY_MODEL_3bd4917579aa4dceb01808b60b31e173",
            "value": "100%"
          }
        },
        "4b0859bdbfff40419d858218ac331524": {
          "model_module": "@jupyter-widgets/controls",
          "model_name": "FloatProgressModel",
          "model_module_version": "1.5.0",
          "state": {
            "_dom_classes": [],
            "_model_module": "@jupyter-widgets/controls",
            "_model_module_version": "1.5.0",
            "_model_name": "FloatProgressModel",
            "_view_count": null,
            "_view_module": "@jupyter-widgets/controls",
            "_view_module_version": "1.5.0",
            "_view_name": "ProgressView",
            "bar_style": "success",
            "description": "",
            "description_tooltip": null,
            "layout": "IPY_MODEL_a5b953f0f11f4441b74b135c36e6b73f",
            "max": 10,
            "min": 0,
            "orientation": "horizontal",
            "style": "IPY_MODEL_a1845bcec5e54715bdde9422cf925c2e",
            "value": 10
          }
        },
        "3f5f354cef9342df95e23d42cff120b4": {
          "model_module": "@jupyter-widgets/controls",
          "model_name": "HTMLModel",
          "model_module_version": "1.5.0",
          "state": {
            "_dom_classes": [],
            "_model_module": "@jupyter-widgets/controls",
            "_model_module_version": "1.5.0",
            "_model_name": "HTMLModel",
            "_view_count": null,
            "_view_module": "@jupyter-widgets/controls",
            "_view_module_version": "1.5.0",
            "_view_name": "HTMLView",
            "description": "",
            "description_tooltip": null,
            "layout": "IPY_MODEL_1ac6655793c7479d8229fe224d5f5b77",
            "placeholder": "​",
            "style": "IPY_MODEL_5f73f92aa2d34be7882e618508aa12e3",
            "value": " 10/10 [02:29&lt;00:00, 13.19s/it]"
          }
        },
        "001025ab39714432bff0395e5a1c36e4": {
          "model_module": "@jupyter-widgets/base",
          "model_name": "LayoutModel",
          "model_module_version": "1.2.0",
          "state": {
            "_model_module": "@jupyter-widgets/base",
            "_model_module_version": "1.2.0",
            "_model_name": "LayoutModel",
            "_view_count": null,
            "_view_module": "@jupyter-widgets/base",
            "_view_module_version": "1.2.0",
            "_view_name": "LayoutView",
            "align_content": null,
            "align_items": null,
            "align_self": null,
            "border": null,
            "bottom": null,
            "display": null,
            "flex": null,
            "flex_flow": null,
            "grid_area": null,
            "grid_auto_columns": null,
            "grid_auto_flow": null,
            "grid_auto_rows": null,
            "grid_column": null,
            "grid_gap": null,
            "grid_row": null,
            "grid_template_areas": null,
            "grid_template_columns": null,
            "grid_template_rows": null,
            "height": null,
            "justify_content": null,
            "justify_items": null,
            "left": null,
            "margin": null,
            "max_height": null,
            "max_width": null,
            "min_height": null,
            "min_width": null,
            "object_fit": null,
            "object_position": null,
            "order": null,
            "overflow": null,
            "overflow_x": null,
            "overflow_y": null,
            "padding": null,
            "right": null,
            "top": null,
            "visibility": null,
            "width": null
          }
        },
        "456a7947218e472285d40e6e3017fae1": {
          "model_module": "@jupyter-widgets/base",
          "model_name": "LayoutModel",
          "model_module_version": "1.2.0",
          "state": {
            "_model_module": "@jupyter-widgets/base",
            "_model_module_version": "1.2.0",
            "_model_name": "LayoutModel",
            "_view_count": null,
            "_view_module": "@jupyter-widgets/base",
            "_view_module_version": "1.2.0",
            "_view_name": "LayoutView",
            "align_content": null,
            "align_items": null,
            "align_self": null,
            "border": null,
            "bottom": null,
            "display": null,
            "flex": null,
            "flex_flow": null,
            "grid_area": null,
            "grid_auto_columns": null,
            "grid_auto_flow": null,
            "grid_auto_rows": null,
            "grid_column": null,
            "grid_gap": null,
            "grid_row": null,
            "grid_template_areas": null,
            "grid_template_columns": null,
            "grid_template_rows": null,
            "height": null,
            "justify_content": null,
            "justify_items": null,
            "left": null,
            "margin": null,
            "max_height": null,
            "max_width": null,
            "min_height": null,
            "min_width": null,
            "object_fit": null,
            "object_position": null,
            "order": null,
            "overflow": null,
            "overflow_x": null,
            "overflow_y": null,
            "padding": null,
            "right": null,
            "top": null,
            "visibility": null,
            "width": null
          }
        },
        "3bd4917579aa4dceb01808b60b31e173": {
          "model_module": "@jupyter-widgets/controls",
          "model_name": "DescriptionStyleModel",
          "model_module_version": "1.5.0",
          "state": {
            "_model_module": "@jupyter-widgets/controls",
            "_model_module_version": "1.5.0",
            "_model_name": "DescriptionStyleModel",
            "_view_count": null,
            "_view_module": "@jupyter-widgets/base",
            "_view_module_version": "1.2.0",
            "_view_name": "StyleView",
            "description_width": ""
          }
        },
        "a5b953f0f11f4441b74b135c36e6b73f": {
          "model_module": "@jupyter-widgets/base",
          "model_name": "LayoutModel",
          "model_module_version": "1.2.0",
          "state": {
            "_model_module": "@jupyter-widgets/base",
            "_model_module_version": "1.2.0",
            "_model_name": "LayoutModel",
            "_view_count": null,
            "_view_module": "@jupyter-widgets/base",
            "_view_module_version": "1.2.0",
            "_view_name": "LayoutView",
            "align_content": null,
            "align_items": null,
            "align_self": null,
            "border": null,
            "bottom": null,
            "display": null,
            "flex": null,
            "flex_flow": null,
            "grid_area": null,
            "grid_auto_columns": null,
            "grid_auto_flow": null,
            "grid_auto_rows": null,
            "grid_column": null,
            "grid_gap": null,
            "grid_row": null,
            "grid_template_areas": null,
            "grid_template_columns": null,
            "grid_template_rows": null,
            "height": null,
            "justify_content": null,
            "justify_items": null,
            "left": null,
            "margin": null,
            "max_height": null,
            "max_width": null,
            "min_height": null,
            "min_width": null,
            "object_fit": null,
            "object_position": null,
            "order": null,
            "overflow": null,
            "overflow_x": null,
            "overflow_y": null,
            "padding": null,
            "right": null,
            "top": null,
            "visibility": null,
            "width": null
          }
        },
        "a1845bcec5e54715bdde9422cf925c2e": {
          "model_module": "@jupyter-widgets/controls",
          "model_name": "ProgressStyleModel",
          "model_module_version": "1.5.0",
          "state": {
            "_model_module": "@jupyter-widgets/controls",
            "_model_module_version": "1.5.0",
            "_model_name": "ProgressStyleModel",
            "_view_count": null,
            "_view_module": "@jupyter-widgets/base",
            "_view_module_version": "1.2.0",
            "_view_name": "StyleView",
            "bar_color": null,
            "description_width": ""
          }
        },
        "1ac6655793c7479d8229fe224d5f5b77": {
          "model_module": "@jupyter-widgets/base",
          "model_name": "LayoutModel",
          "model_module_version": "1.2.0",
          "state": {
            "_model_module": "@jupyter-widgets/base",
            "_model_module_version": "1.2.0",
            "_model_name": "LayoutModel",
            "_view_count": null,
            "_view_module": "@jupyter-widgets/base",
            "_view_module_version": "1.2.0",
            "_view_name": "LayoutView",
            "align_content": null,
            "align_items": null,
            "align_self": null,
            "border": null,
            "bottom": null,
            "display": null,
            "flex": null,
            "flex_flow": null,
            "grid_area": null,
            "grid_auto_columns": null,
            "grid_auto_flow": null,
            "grid_auto_rows": null,
            "grid_column": null,
            "grid_gap": null,
            "grid_row": null,
            "grid_template_areas": null,
            "grid_template_columns": null,
            "grid_template_rows": null,
            "height": null,
            "justify_content": null,
            "justify_items": null,
            "left": null,
            "margin": null,
            "max_height": null,
            "max_width": null,
            "min_height": null,
            "min_width": null,
            "object_fit": null,
            "object_position": null,
            "order": null,
            "overflow": null,
            "overflow_x": null,
            "overflow_y": null,
            "padding": null,
            "right": null,
            "top": null,
            "visibility": null,
            "width": null
          }
        },
        "5f73f92aa2d34be7882e618508aa12e3": {
          "model_module": "@jupyter-widgets/controls",
          "model_name": "DescriptionStyleModel",
          "model_module_version": "1.5.0",
          "state": {
            "_model_module": "@jupyter-widgets/controls",
            "_model_module_version": "1.5.0",
            "_model_name": "DescriptionStyleModel",
            "_view_count": null,
            "_view_module": "@jupyter-widgets/base",
            "_view_module_version": "1.2.0",
            "_view_name": "StyleView",
            "description_width": ""
          }
        }
      }
    }
  },
  "cells": [
    {
      "cell_type": "markdown",
      "metadata": {
        "id": "view-in-github",
        "colab_type": "text"
      },
      "source": [
        "<a href=\"https://colab.research.google.com/github/eunzzae/Study_DL/blob/main/231111_CNN_%EC%8B%A4%EC%8A%B5_%5BAI_Bootcamp_06%5DPytorch_2_0_Tutorial.ipynb\" target=\"_parent\"><img src=\"https://colab.research.google.com/assets/colab-badge.svg\" alt=\"Open In Colab\"/></a>"
      ]
    },
    {
      "cell_type": "markdown",
      "source": [
        "## Pytorch 2.0\n",
        "\n",
        "- 기존 버젼인 1.13보다 훨씬 더 Pythonic 해졌다.\n",
        "\n",
        "- torch.compile의 발전으로 timm이나 Huggingface를 사용할 때 성능향상이 커졌다.\n",
        "\n",
        "- GPU에서 병렬 연산 최적화를 통해서 큰 모델에서도 효율적으로 연산이 가능해졌다.\n",
        "\n",
        "\n",
        "Reference : https://pytorch.org/blog/pytorch-2.0-release/"
      ],
      "metadata": {
        "id": "T0-s6DgSdnMt"
      }
    },
    {
      "cell_type": "markdown",
      "source": [
        "### CIFAR10 Classification\n",
        "\n",
        "- pytorch 2.0을 이용하여, CIFAR10 이미지 분류 문제를 풀어봅니다.\n",
        "\n",
        "1. CIFAR10 데이터를 불러오고, 기본적인 전처리를 수행합니다.\n",
        "\n",
        "2. 학습을 수행할 모델을 정의합니다.\n",
        "\n",
        "3. 학습에 사용할 loss function과 optimizer를 정의합니다.\n",
        "\n",
        "4. 학습을 수행합니다.\n",
        "\n",
        "5. 학습한 모델로 예측을 수행합니다."
      ],
      "metadata": {
        "id": "zeLlmMKpfQDR"
      }
    },
    {
      "cell_type": "code",
      "source": [
        "!pip install torchinfo"
      ],
      "metadata": {
        "colab": {
          "base_uri": "https://localhost:8080/"
        },
        "id": "lONrk1Xj2z-h",
        "outputId": "73925d40-d54a-4d29-a8de-866d698b9ba4"
      },
      "execution_count": 1,
      "outputs": [
        {
          "output_type": "stream",
          "name": "stdout",
          "text": [
            "Requirement already satisfied: torchinfo in /usr/local/lib/python3.10/dist-packages (1.8.0)\n"
          ]
        }
      ]
    },
    {
      "cell_type": "code",
      "execution_count": 2,
      "metadata": {
        "id": "oUNJ4cbjN90t"
      },
      "outputs": [],
      "source": [
        "import numpy as np\n",
        "import pandas as pd\n",
        "import matplotlib.pyplot as plt\n",
        "import seaborn as sns\n",
        "\n",
        "import random\n",
        "from time import time\n",
        "import os\n",
        "from tqdm.auto import tqdm\n",
        "\n",
        "# 파이토치 라이브러리와 필요한 모듈들을 불러옵니다.\n",
        "import torch\n",
        "import torchvision\n",
        "from torchinfo import summary"
      ]
    },
    {
      "cell_type": "code",
      "source": [
        "seed = 2023\n",
        "deterministic = True\n",
        "\n",
        "random.seed(seed)\n",
        "np.random.seed(seed)\n",
        "torch.manual_seed(seed)\n",
        "torch.cuda.manual_seed_all(seed)\n",
        "if deterministic:\n",
        "\ttorch.backends.cudnn.deterministic = True\n",
        "\ttorch.backends.cudnn.benchmark = False"
      ],
      "metadata": {
        "id": "VnG0wjBGzVyH"
      },
      "execution_count": 3,
      "outputs": []
    },
    {
      "cell_type": "code",
      "source": [
        "!nvidia-smi"
      ],
      "metadata": {
        "id": "WgsDznkHUbu2",
        "colab": {
          "base_uri": "https://localhost:8080/"
        },
        "outputId": "09a1858f-eeb7-4fd1-a144-c06a2b3f5f43"
      },
      "execution_count": 4,
      "outputs": [
        {
          "output_type": "stream",
          "name": "stdout",
          "text": [
            "Sat Nov 11 06:17:46 2023       \n",
            "+-----------------------------------------------------------------------------+\n",
            "| NVIDIA-SMI 525.105.17   Driver Version: 525.105.17   CUDA Version: 12.0     |\n",
            "|-------------------------------+----------------------+----------------------+\n",
            "| GPU  Name        Persistence-M| Bus-Id        Disp.A | Volatile Uncorr. ECC |\n",
            "| Fan  Temp  Perf  Pwr:Usage/Cap|         Memory-Usage | GPU-Util  Compute M. |\n",
            "|                               |                      |               MIG M. |\n",
            "|===============================+======================+======================|\n",
            "|   0  Tesla T4            Off  | 00000000:00:04.0 Off |                    0 |\n",
            "| N/A   70C    P8    11W /  70W |      0MiB / 15360MiB |      0%      Default |\n",
            "|                               |                      |                  N/A |\n",
            "+-------------------------------+----------------------+----------------------+\n",
            "                                                                               \n",
            "+-----------------------------------------------------------------------------+\n",
            "| Processes:                                                                  |\n",
            "|  GPU   GI   CI        PID   Type   Process name                  GPU Memory |\n",
            "|        ID   ID                                                   Usage      |\n",
            "|=============================================================================|\n",
            "|  No running processes found                                                 |\n",
            "+-----------------------------------------------------------------------------+\n"
          ]
        }
      ]
    },
    {
      "cell_type": "code",
      "source": [
        "print(torch.__version__)\n",
        "print(torchvision.__version__)\n",
        "print(os.cpu_count())"
      ],
      "metadata": {
        "id": "JUfmqJ6VecBY",
        "colab": {
          "base_uri": "https://localhost:8080/"
        },
        "outputId": "a2508ad5-7938-4354-b0d7-1ac66891e33d"
      },
      "execution_count": 5,
      "outputs": [
        {
          "output_type": "stream",
          "name": "stdout",
          "text": [
            "2.1.0+cu118\n",
            "0.16.0+cu118\n",
            "2\n"
          ]
        }
      ]
    },
    {
      "cell_type": "markdown",
      "source": [
        "### 1. 전처리 함수 정의하기"
      ],
      "metadata": {
        "id": "_v0QRUFthDTl"
      }
    },
    {
      "cell_type": "code",
      "source": [
        "# 이미지 전처리에 필요한 transformation 함수를 정의 (pipeline 형태)\n",
        "from torchvision.transforms import transforms\n",
        "\n",
        "# for CIFAR10 (RGB channel)\n",
        "transform = transforms.Compose([\n",
        "    transforms.ToTensor(),         # numpy array를 torch.FloatTensor로 변환 & [0, 255] -> [0.0, 1.0]\n",
        "    transforms.Normalize(mean=(0.5, 0.5, 0.5),\n",
        "                         std=(0.5, 0.5, 0.5)) # standard scaling [0.0, 1.0] - 0.5 ==> [-0.5, +0.5] / 0.5 ==> [-1.0, 1.0]\n",
        "    # transforms.Nomalize(mean=(0.485, 0.456, 0.406), # ImageNet 데이터의 RGB channel별 mean, std.\n",
        "    #                     std=(0.229, 0.224, 0.225))\n",
        "])\n",
        "\n",
        "# for ImageNet (RGB channel)\n",
        "# transform = transforms.Compose([\n",
        "#     transforms.ToTensor(),\n",
        "#     transforms.Nomalize(mean=(0.485, 0.456, 0.406), # ImageNet 데이터의 RGB channel별 mean, std.\n",
        "#                         std=(0.229, 0.224, 0.225))\n",
        "# ])"
      ],
      "metadata": {
        "id": "QNFyqmOQeo-o"
      },
      "execution_count": 6,
      "outputs": []
    },
    {
      "cell_type": "code",
      "source": [
        "# torch에서 학습에 사용할 config variable들을 세팅합니다.\n",
        "num_workers = 2\n",
        "batch_size = 256\n",
        "learning_rate = 1e-3 # ~ 0.000001(1e-6)\n",
        "epochs = 10"
      ],
      "metadata": {
        "id": "0_BLdMbiiq0h"
      },
      "execution_count": 7,
      "outputs": []
    },
    {
      "cell_type": "code",
      "source": [
        "# Data Load (Dataset, DataLoader)\n",
        "trainset = torchvision.datasets.CIFAR10(root='./',\n",
        "                                        train=True,\n",
        "                                        download=True,\n",
        "                                        transform=transform)\n",
        "# iterator의 역할을 할 수 있음\n",
        "trainloader = torch.utils.data.DataLoader(dataset=trainset,\n",
        "                                          batch_size=batch_size,\n",
        "                                          shuffle=True,\n",
        "                                          num_workers=num_workers)\n",
        "\n",
        "testset = torchvision.datasets.CIFAR10(root='./',\n",
        "                                       train=False,\n",
        "                                       download=True,\n",
        "                                       transform=transform)\n",
        "\n",
        "testloader = torch.utils.data.DataLoader(dataset=testset,\n",
        "                                         batch_size=batch_size,\n",
        "                                         shuffle=False,\n",
        "                                         num_workers=num_workers)\n",
        "\n",
        "classes = ('airplane', 'automobile', 'bird', 'cat',\n",
        "'deer', 'dog', 'frog', 'horse', 'ship', 'truck')"
      ],
      "metadata": {
        "id": "i5D87dtml2gi",
        "colab": {
          "base_uri": "https://localhost:8080/"
        },
        "outputId": "ea1805eb-189a-4442-af93-3e1359bc7881"
      },
      "execution_count": 8,
      "outputs": [
        {
          "output_type": "stream",
          "name": "stdout",
          "text": [
            "Files already downloaded and verified\n",
            "Files already downloaded and verified\n"
          ]
        }
      ]
    },
    {
      "cell_type": "code",
      "source": [
        "# show images\n",
        "\n",
        "def imshow(img):\n",
        "    img = img/2 + 0.5  # unnormalize\n",
        "    npimg = img.numpy()\n",
        "    plt.imshow(np.transpose(npimg, (1, 2, 0)))\n",
        "    plt.show()\n",
        "\n",
        "# iterator를 이용해서 데이터를 불러오게 만듭니다. (batch processing을 위해서)\n",
        "dataiter = iter(trainloader)  # trainloader를 iterator로 선언.\n",
        "images, labels = next(dataiter) # next 함수는 iterator의 반복 수행함.\n",
        "\n",
        "imshow(torchvision.utils.make_grid(images))\n",
        "print(' '.join(f'{classes[labels[j]]:5s}' for j in range(batch_size)))"
      ],
      "metadata": {
        "id": "YQS2dRksnGxr",
        "colab": {
          "base_uri": "https://localhost:8080/",
          "height": 474
        },
        "outputId": "6308fea0-2c78-48ba-f7a5-8a76abeed60f"
      },
      "execution_count": 9,
      "outputs": [
        {
          "output_type": "display_data",
          "data": {
            "text/plain": [
              "<Figure size 640x480 with 1 Axes>"
            ],
            "image/png": "[encoded data removed]"
          },
          "metadata": {}
        },
        {
          "output_type": "stream",
          "name": "stdout",
          "text": [
            "bird  truck automobile frog  airplane automobile airplane airplane cat   deer  airplane frog  ship  cat   bird  bird  bird  horse bird  frog  dog   deer  dog   dog   ship  ship  bird  automobile truck airplane airplane airplane automobile dog   horse automobile airplane frog  truck frog  bird  cat   truck cat   dog   truck horse airplane bird  airplane bird  cat   bird  ship  ship  ship  deer  airplane truck bird  horse cat   truck dog   cat   ship  frog  airplane dog   truck truck cat   cat   horse automobile automobile deer  ship  bird  dog   deer  deer  frog  cat   horse automobile deer  ship  automobile airplane dog   dog   deer  ship  automobile bird  bird  truck automobile bird  cat   truck deer  dog   automobile truck truck dog   airplane dog   ship  deer  frog  ship  bird  cat   frog  truck truck frog  frog  automobile deer  frog  bird  horse horse horse frog  automobile horse horse truck cat   cat   horse airplane deer  truck ship  frog  horse dog   deer  airplane deer  ship  truck cat   cat   horse truck automobile ship  dog   frog  cat   truck cat   cat   horse truck frog  bird  airplane frog  bird  ship  frog  ship  airplane dog   truck ship  frog  bird  bird  bird  cat   truck cat   airplane bird  dog   deer  horse frog  horse bird  automobile bird  frog  cat   automobile bird  dog   airplane frog  horse automobile horse airplane bird  frog  truck deer  frog  airplane frog  ship  automobile automobile truck dog   dog   ship  dog   truck truck deer  airplane airplane deer  bird  truck bird  deer  frog  automobile frog  ship  cat   dog   cat   frog  frog  bird  truck cat   bird  cat   deer  horse deer  deer  automobile ship  ship  horse bird  automobile bird  horse dog   truck frog \n"
          ]
        }
      ]
    },
    {
      "cell_type": "code",
      "source": [
        "# shape을 확인합니다.\n",
        "print(images.shape, labels.shape)"
      ],
      "metadata": {
        "id": "FIwZb7SGw0b9",
        "colab": {
          "base_uri": "https://localhost:8080/"
        },
        "outputId": "51d71562-0318-4c92-ee86-a75de4f2271a"
      },
      "execution_count": 10,
      "outputs": [
        {
          "output_type": "stream",
          "name": "stdout",
          "text": [
            "torch.Size([256, 3, 32, 32]) torch.Size([256])\n"
          ]
        }
      ]
    },
    {
      "cell_type": "markdown",
      "source": [
        "### 2. 학습 모델 정의\n",
        "\n",
        "\n",
        "- 이미지 분류에 주로 쓰이는 모델은 CNN입니다.\n",
        "\n",
        "\n",
        "- 처음에는 그냥 MLP(FCN)으로 구현을 하고, (나중에)Convolution 연산들을 추가해봅니다.\n",
        "\n",
        "\n",
        "**모델 아키텍쳐**\n",
        "\n",
        "- Conv => ReLU => Conv => ReLU => MaxPool => fc1 => fc2 => fc3(output)        (model1)\n",
        "- Conv block(Conv-ReLU x 2) => maxPool => Conv block => MaxPool => fc(output) (model2)"
      ],
      "metadata": {
        "id": "itV8TTmXo7Jv"
      }
    },
    {
      "cell_type": "code",
      "source": [
        "import torch.nn as nn\n",
        "\n",
        "# 모델 구현에 필요한 레이어들을 정의합니다. (외워야 함)\n",
        "\n",
        "\n",
        "class CNN(nn.Module):\n",
        "    def __init__(self):\n",
        "      # X = (N - F) / S + 1\n",
        "        super().__init__()\n",
        "        self.conv1 = nn.Conv2d(in_channels=3,\n",
        "                               out_channels=6, # number of filters\n",
        "                               kernel_size=3,\n",
        "                               stride=1,\n",
        "                               padding=0) # (3, 32, 32) => (6, 30, 30)\n",
        "        self.conv2 = nn.Conv2d(6, 12, 3)  # (6, 30, 30) => (12, 28, 28)\n",
        "        self.maxpool = nn.MaxPool2d(kernel_size=2,\n",
        "                                    stride=2) # (12, 28, 28) => (12, 14, 14)\n",
        "        self.fc1 = nn.Linear(in_features=12*14*14, # 2352\n",
        "                             out_features=1024)\n",
        "        self.fc2 = nn.Linear(1024, 128)\n",
        "        self.fc3 = nn.Linear(128, 10)\n",
        "        self.relu = nn.ReLU()\n",
        "        self.softmax = nn.Softmax(dim=1)\n",
        "\n",
        "    def forward(self, x):\n",
        "        # feed-forward 연산을 구현합니다.\n",
        "        x = self.relu(self.conv1(x))\n",
        "        x = self.relu(self.conv2(x))\n",
        "        x = self.maxpool(x)\n",
        "        x = torch.flatten(x, 1) # (batch_size, 12, 14, 14) => (batch_size, 12*14*14) dim = 1인 이유\n",
        "        x = self.relu(self.fc1(x))\n",
        "        x = self.relu(self.fc2(x))\n",
        "        x = self.softmax(self.fc3(x))\n",
        "        return x"
      ],
      "metadata": {
        "id": "sJK-g7qio1KD"
      },
      "execution_count": 11,
      "outputs": []
    },
    {
      "cell_type": "code",
      "source": [
        "device = torch.device(\"cuda:0\" if torch.cuda.is_available() else \"cpu\")\n",
        "print(device)"
      ],
      "metadata": {
        "id": "OPCtD77zvMWY",
        "colab": {
          "base_uri": "https://localhost:8080/"
        },
        "outputId": "e67ec392-41d9-4b84-c84e-3e8b23f091f2"
      },
      "execution_count": 12,
      "outputs": [
        {
          "output_type": "stream",
          "name": "stdout",
          "text": [
            "cuda:0\n"
          ]
        }
      ]
    },
    {
      "cell_type": "code",
      "source": [
        "model = CNN().to(device)\n",
        "model"
      ],
      "metadata": {
        "id": "aOTUCFqZvO4z",
        "colab": {
          "base_uri": "https://localhost:8080/"
        },
        "outputId": "80156d0e-09bd-4880-8145-089547dd0bf8"
      },
      "execution_count": 13,
      "outputs": [
        {
          "output_type": "execute_result",
          "data": {
            "text/plain": [
              "CNN(\n",
              "  (conv1): Conv2d(3, 6, kernel_size=(3, 3), stride=(1, 1))\n",
              "  (conv2): Conv2d(6, 12, kernel_size=(3, 3), stride=(1, 1))\n",
              "  (maxpool): MaxPool2d(kernel_size=2, stride=2, padding=0, dilation=1, ceil_mode=False)\n",
              "  (fc1): Linear(in_features=2352, out_features=1024, bias=True)\n",
              "  (fc2): Linear(in_features=1024, out_features=128, bias=True)\n",
              "  (fc3): Linear(in_features=128, out_features=10, bias=True)\n",
              "  (relu): ReLU()\n",
              "  (softmax): Softmax(dim=1)\n",
              ")"
            ]
          },
          "metadata": {},
          "execution_count": 13
        }
      ]
    },
    {
      "cell_type": "code",
      "source": [
        "# (CNN)\n",
        "# conv1 : ((3x3x3)+1) x 6\n",
        "# conv2 : ((3x3x6)+1) x 12\n",
        "# fc1 : ((12x14x14)+1) x 1024\n",
        "# maxpool : 0\n",
        "\n",
        "summary(model)"
      ],
      "metadata": {
        "id": "66WSnsqmm-LP",
        "colab": {
          "base_uri": "https://localhost:8080/"
        },
        "outputId": "4a28cbaf-abf4-4b4d-9fbf-12762706604e"
      },
      "execution_count": 14,
      "outputs": [
        {
          "output_type": "execute_result",
          "data": {
            "text/plain": [
              "=================================================================\n",
              "Layer (type:depth-idx)                   Param #\n",
              "=================================================================\n",
              "CNN                                      --\n",
              "├─Conv2d: 1-1                            168\n",
              "├─Conv2d: 1-2                            660\n",
              "├─MaxPool2d: 1-3                         --\n",
              "├─Linear: 1-4                            2,409,472\n",
              "├─Linear: 1-5                            131,200\n",
              "├─Linear: 1-6                            1,290\n",
              "├─ReLU: 1-7                              --\n",
              "├─Softmax: 1-8                           --\n",
              "=================================================================\n",
              "Total params: 2,542,790\n",
              "Trainable params: 2,542,790\n",
              "Non-trainable params: 0\n",
              "================================================================="
            ]
          },
          "metadata": {},
          "execution_count": 14
        }
      ]
    },
    {
      "cell_type": "code",
      "source": [
        "# show params\n",
        "for x in model.parameters():\n",
        "  print(x.shape) # real parameters"
      ],
      "metadata": {
        "id": "-Bi1bydwgmdF",
        "colab": {
          "base_uri": "https://localhost:8080/"
        },
        "outputId": "1b52393f-54ff-4a64-f563-1b9e4212cbed"
      },
      "execution_count": 15,
      "outputs": [
        {
          "output_type": "stream",
          "name": "stdout",
          "text": [
            "torch.Size([6, 3, 3, 3])\n",
            "torch.Size([6])\n",
            "torch.Size([12, 6, 3, 3])\n",
            "torch.Size([12])\n",
            "torch.Size([1024, 2352])\n",
            "torch.Size([1024])\n",
            "torch.Size([128, 1024])\n",
            "torch.Size([128])\n",
            "torch.Size([10, 128])\n",
            "torch.Size([10])\n"
          ]
        }
      ]
    },
    {
      "cell_type": "markdown",
      "source": [
        "### 3. Optimizer와 Loss function 정의\n",
        "\n",
        "\n",
        "- 학습에 가장 많이 사용하는 optimizer는 Adam입니다.\n",
        "\n",
        "\n",
        "- 가장 기본이 되는 SGD(Stochastic Gradient Descent)와 Adam을 구현해서 비교해봅시다.\n",
        "\n",
        "- multiclass classification에서 사용하는 loss function은 cross-entropy입니다."
      ],
      "metadata": {
        "id": "RAeA6l91xZZd"
      }
    },
    {
      "cell_type": "code",
      "source": [
        "from torch.optim._multi_tensor import AdamW\n",
        "# import optimizers\n",
        "import torch.optim as optim\n",
        "\n",
        "optimizer = optim.AdamW(params=model.parameters(), lr=learning_rate)\n",
        "criterion = nn.CrossEntropyLoss()"
      ],
      "metadata": {
        "id": "n8mxBEjEvQOO"
      },
      "execution_count": 16,
      "outputs": []
    },
    {
      "cell_type": "markdown",
      "source": [
        "### 4. 학습\n",
        "\n",
        "- pytorch에서는 학습을 위해서 train 함수와 test 함수를 직접 구현해야합니다.\n",
        "\n",
        "- 처음에는 직접 for문을 통해서 batch 단위 학습 코드를 구현해봅시다."
      ],
      "metadata": {
        "id": "3BXKr9bty8dU"
      }
    },
    {
      "cell_type": "code",
      "source": [
        "# ! pip install torchview"
      ],
      "metadata": {
        "colab": {
          "base_uri": "https://localhost:8080/"
        },
        "id": "EsoWNGXp7FOY",
        "outputId": "c8c73563-338b-471d-ecac-3e03fc314a79"
      },
      "execution_count": 17,
      "outputs": [
        {
          "output_type": "stream",
          "name": "stdout",
          "text": [
            "Requirement already satisfied: torchview in /usr/local/lib/python3.10/dist-packages (0.2.6)\n"
          ]
        }
      ]
    },
    {
      "cell_type": "code",
      "source": [
        "# from torchview import draw_graph"
      ],
      "metadata": {
        "id": "2y9lDBuv7M_0"
      },
      "execution_count": 18,
      "outputs": []
    },
    {
      "cell_type": "code",
      "source": [
        "# Dynamic Computational Graph (Runtime) => forward 함수가 호출이 되어야 빌드됨.\n",
        "# model_graph = draw_graph(model,input_size=(batch_size, 3, 32, 32))\n",
        "# model_graph.visual_graph"
      ],
      "metadata": {
        "colab": {
          "base_uri": "https://localhost:8080/",
          "height": 1000
        },
        "id": "yBjsH0Pq7TJq",
        "outputId": "957f7f89-59a9-45e1-d4e3-4f14cf2607ec"
      },
      "execution_count": 19,
      "outputs": [
        {
          "output_type": "execute_result",
          "data": {
            "image/svg+xml": "<?xml version=\"1.0\" encoding=\"UTF-8\" standalone=\"no\"?>\n<!DOCTYPE svg PUBLIC \"-//W3C//DTD SVG 1.1//EN\"\n \"http://www.w3.org/Graphics/SVG/1.1/DTD/svg11.dtd\">\n<!-- Generated by graphviz version 2.43.0 (0)\n -->\n<!-- Title: model Pages: 1 -->\n<svg width=\"208pt\" height=\"864pt\"\n viewBox=\"0.00 0.00 207.72 864.00\" xmlns=\"http://www.w3.org/2000/svg\" xmlns:xlink=\"http://www.w3.org/1999/xlink\">\n<g id=\"graph0\" class=\"graph\" transform=\"scale(1.21 1.21) rotate(0) translate(4 1040)\">\n<title>model</title>\n<polygon fill=\"white\" stroke=\"transparent\" points=\"-4,4 -4,-1040 247,-1040 247,4 -4,4\"/>\n<!-- 0 -->\n<g id=\"node1\" class=\"node\">\n<title>0</title>\n<polygon fill=\"lightyellow\" stroke=\"transparent\" points=\"216.5,-1036 26.5,-1036 26.5,-1004 216.5,-1004 216.5,-1036\"/>\n<polygon fill=\"none\" stroke=\"black\" points=\"26.5,-1004 26.5,-1036 109.5,-1036 109.5,-1004 26.5,-1004\"/>\n<text text-anchor=\"start\" x=\"31.5\" y=\"-1023\" font-family=\"Linux libertine\" font-size=\"10.00\">input&#45;tensor</text>\n<text text-anchor=\"start\" x=\"46.5\" y=\"-1012\" font-family=\"Linux libertine\" font-size=\"10.00\">depth:0</text>\n<polygon fill=\"none\" stroke=\"black\" points=\"109.5,-1004 109.5,-1036 216.5,-1036 216.5,-1004 109.5,-1004\"/>\n<text text-anchor=\"start\" x=\"114.5\" y=\"-1017.5\" font-family=\"Linux libertine\" font-size=\"10.00\">(256, 3, 32, 32)</text>\n</g>\n<!-- 1 -->\n<g id=\"node2\" class=\"node\">\n<title>1</title>\n<polygon fill=\"#c1ffc1\" stroke=\"transparent\" points=\"234,-968 9,-968 9,-926 234,-926 234,-968\"/>\n<polygon fill=\"none\" stroke=\"black\" points=\"9.5,-926 9.5,-968 62.5,-968 62.5,-926 9.5,-926\"/>\n<text text-anchor=\"start\" x=\"17.5\" y=\"-950\" font-family=\"Linux libertine\" font-size=\"10.00\">Conv2d</text>\n<text text-anchor=\"start\" x=\"14.5\" y=\"-939\" font-family=\"Linux libertine\" font-size=\"10.00\">depth:1</text>\n<polygon fill=\"none\" stroke=\"black\" points=\"62.5,-947 62.5,-968 121.5,-968 121.5,-947 62.5,-947\"/>\n<text text-anchor=\"start\" x=\"73.5\" y=\"-955\" font-family=\"Linux libertine\" font-size=\"10.00\">input:</text>\n<polygon fill=\"none\" stroke=\"black\" points=\"121.5,-947 121.5,-968 234.5,-968 234.5,-947 121.5,-947\"/>\n<text text-anchor=\"start\" x=\"126.5\" y=\"-955\" font-family=\"Linux libertine\" font-size=\"10.00\">(256, 3, 32, 32) </text>\n<polygon fill=\"none\" stroke=\"black\" points=\"62.5,-926 62.5,-947 121.5,-947 121.5,-926 62.5,-926\"/>\n<text text-anchor=\"start\" x=\"67.5\" y=\"-934\" font-family=\"Linux libertine\" font-size=\"10.00\">output: </text>\n<polygon fill=\"none\" stroke=\"black\" points=\"121.5,-926 121.5,-947 234.5,-947 234.5,-926 121.5,-926\"/>\n<text text-anchor=\"start\" x=\"126.5\" y=\"-934\" font-family=\"Linux libertine\" font-size=\"10.00\">(256, 6, 30, 30) </text>\n</g>\n<!-- 0&#45;&gt;1 -->\n<g id=\"edge1\" class=\"edge\">\n<title>0&#45;&gt;1</title>\n<path fill=\"none\" stroke=\"black\" d=\"M121.5,-1003.94C121.5,-996.45 121.5,-987.12 121.5,-978.24\"/>\n<polygon fill=\"black\" stroke=\"black\" points=\"125,-978.16 121.5,-968.16 118,-978.16 125,-978.16\"/>\n</g>\n<!-- 2 -->\n<g id=\"node3\" class=\"node\">\n<title>2</title>\n<polygon fill=\"#c1ffc1\" stroke=\"transparent\" points=\"234,-890 9,-890 9,-848 234,-848 234,-890\"/>\n<polygon fill=\"none\" stroke=\"black\" points=\"9.5,-848 9.5,-890 62.5,-890 62.5,-848 9.5,-848\"/>\n<text text-anchor=\"start\" x=\"23.5\" y=\"-872\" font-family=\"Linux libertine\" font-size=\"10.00\">ReLU</text>\n<text text-anchor=\"start\" x=\"14.5\" y=\"-861\" font-family=\"Linux libertine\" font-size=\"10.00\">depth:1</text>\n<polygon fill=\"none\" stroke=\"black\" points=\"62.5,-869 62.5,-890 121.5,-890 121.5,-869 62.5,-869\"/>\n<text text-anchor=\"start\" x=\"73.5\" y=\"-877\" font-family=\"Linux libertine\" font-size=\"10.00\">input:</text>\n<polygon fill=\"none\" stroke=\"black\" points=\"121.5,-869 121.5,-890 234.5,-890 234.5,-869 121.5,-869\"/>\n<text text-anchor=\"start\" x=\"126.5\" y=\"-877\" font-family=\"Linux libertine\" font-size=\"10.00\">(256, 6, 30, 30) </text>\n<polygon fill=\"none\" stroke=\"black\" points=\"62.5,-848 62.5,-869 121.5,-869 121.5,-848 62.5,-848\"/>\n<text text-anchor=\"start\" x=\"67.5\" y=\"-856\" font-family=\"Linux libertine\" font-size=\"10.00\">output: </text>\n<polygon fill=\"none\" stroke=\"black\" points=\"121.5,-848 121.5,-869 234.5,-869 234.5,-848 121.5,-848\"/>\n<text text-anchor=\"start\" x=\"126.5\" y=\"-856\" font-family=\"Linux libertine\" font-size=\"10.00\">(256, 6, 30, 30) </text>\n</g>\n<!-- 1&#45;&gt;2 -->\n<g id=\"edge2\" class=\"edge\">\n<title>1&#45;&gt;2</title>\n<path fill=\"none\" stroke=\"black\" d=\"M121.5,-925.63C121.5,-917.82 121.5,-908.73 121.5,-900.18\"/>\n<polygon fill=\"black\" stroke=\"black\" points=\"125,-900.16 121.5,-890.16 118,-900.16 125,-900.16\"/>\n</g>\n<!-- 3 -->\n<g id=\"node4\" class=\"node\">\n<title>3</title>\n<polygon fill=\"#c1ffc1\" stroke=\"transparent\" points=\"237,-812 6,-812 6,-770 237,-770 237,-812\"/>\n<polygon fill=\"none\" stroke=\"black\" points=\"6.5,-770 6.5,-812 59.5,-812 59.5,-770 6.5,-770\"/>\n<text text-anchor=\"start\" x=\"14.5\" y=\"-794\" font-family=\"Linux libertine\" font-size=\"10.00\">Conv2d</text>\n<text text-anchor=\"start\" x=\"11.5\" y=\"-783\" font-family=\"Linux libertine\" font-size=\"10.00\">depth:1</text>\n<polygon fill=\"none\" stroke=\"black\" points=\"59.5,-791 59.5,-812 118.5,-812 118.5,-791 59.5,-791\"/>\n<text text-anchor=\"start\" x=\"70.5\" y=\"-799\" font-family=\"Linux libertine\" font-size=\"10.00\">input:</text>\n<polygon fill=\"none\" stroke=\"black\" points=\"118.5,-791 118.5,-812 237.5,-812 237.5,-791 118.5,-791\"/>\n<text text-anchor=\"start\" x=\"126.5\" y=\"-799\" font-family=\"Linux libertine\" font-size=\"10.00\">(256, 6, 30, 30) </text>\n<polygon fill=\"none\" stroke=\"black\" points=\"59.5,-770 59.5,-791 118.5,-791 118.5,-770 59.5,-770\"/>\n<text text-anchor=\"start\" x=\"64.5\" y=\"-778\" font-family=\"Linux libertine\" font-size=\"10.00\">output: </text>\n<polygon fill=\"none\" stroke=\"black\" points=\"118.5,-770 118.5,-791 237.5,-791 237.5,-770 118.5,-770\"/>\n<text text-anchor=\"start\" x=\"123.5\" y=\"-778\" font-family=\"Linux libertine\" font-size=\"10.00\">(256, 12, 28, 28) </text>\n</g>\n<!-- 2&#45;&gt;3 -->\n<g id=\"edge3\" class=\"edge\">\n<title>2&#45;&gt;3</title>\n<path fill=\"none\" stroke=\"black\" d=\"M121.5,-847.63C121.5,-839.82 121.5,-830.73 121.5,-822.18\"/>\n<polygon fill=\"black\" stroke=\"black\" points=\"125,-822.16 121.5,-812.16 118,-822.16 125,-822.16\"/>\n</g>\n<!-- 4 -->\n<g id=\"node5\" class=\"node\">\n<title>4</title>\n<polygon fill=\"#c1ffc1\" stroke=\"transparent\" points=\"237,-734 6,-734 6,-692 237,-692 237,-734\"/>\n<polygon fill=\"none\" stroke=\"black\" points=\"6.5,-692 6.5,-734 59.5,-734 59.5,-692 6.5,-692\"/>\n<text text-anchor=\"start\" x=\"20.5\" y=\"-716\" font-family=\"Linux libertine\" font-size=\"10.00\">ReLU</text>\n<text text-anchor=\"start\" x=\"11.5\" y=\"-705\" font-family=\"Linux libertine\" font-size=\"10.00\">depth:1</text>\n<polygon fill=\"none\" stroke=\"black\" points=\"59.5,-713 59.5,-734 118.5,-734 118.5,-713 59.5,-713\"/>\n<text text-anchor=\"start\" x=\"70.5\" y=\"-721\" font-family=\"Linux libertine\" font-size=\"10.00\">input:</text>\n<polygon fill=\"none\" stroke=\"black\" points=\"118.5,-713 118.5,-734 237.5,-734 237.5,-713 118.5,-713\"/>\n<text text-anchor=\"start\" x=\"123.5\" y=\"-721\" font-family=\"Linux libertine\" font-size=\"10.00\">(256, 12, 28, 28) </text>\n<polygon fill=\"none\" stroke=\"black\" points=\"59.5,-692 59.5,-713 118.5,-713 118.5,-692 59.5,-692\"/>\n<text text-anchor=\"start\" x=\"64.5\" y=\"-700\" font-family=\"Linux libertine\" font-size=\"10.00\">output: </text>\n<polygon fill=\"none\" stroke=\"black\" points=\"118.5,-692 118.5,-713 237.5,-713 237.5,-692 118.5,-692\"/>\n<text text-anchor=\"start\" x=\"123.5\" y=\"-700\" font-family=\"Linux libertine\" font-size=\"10.00\">(256, 12, 28, 28) </text>\n</g>\n<!-- 3&#45;&gt;4 -->\n<g id=\"edge4\" class=\"edge\">\n<title>3&#45;&gt;4</title>\n<path fill=\"none\" stroke=\"black\" d=\"M121.5,-769.63C121.5,-761.82 121.5,-752.73 121.5,-744.18\"/>\n<polygon fill=\"black\" stroke=\"black\" points=\"125,-744.16 121.5,-734.16 118,-744.16 125,-744.16\"/>\n</g>\n<!-- 5 -->\n<g id=\"node6\" class=\"node\">\n<title>5</title>\n<polygon fill=\"#c1ffc1\" stroke=\"transparent\" points=\"243,-656 0,-656 0,-614 243,-614 243,-656\"/>\n<polygon fill=\"none\" stroke=\"black\" points=\"0.5,-614 0.5,-656 65.5,-656 65.5,-614 0.5,-614\"/>\n<text text-anchor=\"start\" x=\"5.5\" y=\"-638\" font-family=\"Linux libertine\" font-size=\"10.00\">MaxPool2d</text>\n<text text-anchor=\"start\" x=\"11.5\" y=\"-627\" font-family=\"Linux libertine\" font-size=\"10.00\">depth:1</text>\n<polygon fill=\"none\" stroke=\"black\" points=\"65.5,-635 65.5,-656 124.5,-656 124.5,-635 65.5,-635\"/>\n<text text-anchor=\"start\" x=\"76.5\" y=\"-643\" font-family=\"Linux libertine\" font-size=\"10.00\">input:</text>\n<polygon fill=\"none\" stroke=\"black\" points=\"124.5,-635 124.5,-656 243.5,-656 243.5,-635 124.5,-635\"/>\n<text text-anchor=\"start\" x=\"129.5\" y=\"-643\" font-family=\"Linux libertine\" font-size=\"10.00\">(256, 12, 28, 28) </text>\n<polygon fill=\"none\" stroke=\"black\" points=\"65.5,-614 65.5,-635 124.5,-635 124.5,-614 65.5,-614\"/>\n<text text-anchor=\"start\" x=\"70.5\" y=\"-622\" font-family=\"Linux libertine\" font-size=\"10.00\">output: </text>\n<polygon fill=\"none\" stroke=\"black\" points=\"124.5,-614 124.5,-635 243.5,-635 243.5,-614 124.5,-614\"/>\n<text text-anchor=\"start\" x=\"129.5\" y=\"-622\" font-family=\"Linux libertine\" font-size=\"10.00\">(256, 12, 14, 14) </text>\n</g>\n<!-- 4&#45;&gt;5 -->\n<g id=\"edge5\" class=\"edge\">\n<title>4&#45;&gt;5</title>\n<path fill=\"none\" stroke=\"black\" d=\"M121.5,-691.63C121.5,-683.82 121.5,-674.73 121.5,-666.18\"/>\n<polygon fill=\"black\" stroke=\"black\" points=\"125,-666.16 121.5,-656.16 118,-666.16 125,-666.16\"/>\n</g>\n<!-- 6 -->\n<g id=\"node7\" class=\"node\">\n<title>6</title>\n<polygon fill=\"aliceblue\" stroke=\"transparent\" points=\"237,-578 6,-578 6,-536 237,-536 237,-578\"/>\n<polygon fill=\"none\" stroke=\"black\" points=\"6.5,-536 6.5,-578 59.5,-578 59.5,-536 6.5,-536\"/>\n<text text-anchor=\"start\" x=\"11.5\" y=\"-560\" font-family=\"Linux libertine\" font-size=\"10.00\">flatten</text>\n<text text-anchor=\"start\" x=\"11.5\" y=\"-549\" font-family=\"Linux libertine\" font-size=\"10.00\">depth:1</text>\n<polygon fill=\"none\" stroke=\"black\" points=\"59.5,-557 59.5,-578 118.5,-578 118.5,-557 59.5,-557\"/>\n<text text-anchor=\"start\" x=\"70.5\" y=\"-565\" font-family=\"Linux libertine\" font-size=\"10.00\">input:</text>\n<polygon fill=\"none\" stroke=\"black\" points=\"118.5,-557 118.5,-578 237.5,-578 237.5,-557 118.5,-557\"/>\n<text text-anchor=\"start\" x=\"123.5\" y=\"-565\" font-family=\"Linux libertine\" font-size=\"10.00\">(256, 12, 14, 14) </text>\n<polygon fill=\"none\" stroke=\"black\" points=\"59.5,-536 59.5,-557 118.5,-557 118.5,-536 59.5,-536\"/>\n<text text-anchor=\"start\" x=\"64.5\" y=\"-544\" font-family=\"Linux libertine\" font-size=\"10.00\">output: </text>\n<polygon fill=\"none\" stroke=\"black\" points=\"118.5,-536 118.5,-557 237.5,-557 237.5,-536 118.5,-536\"/>\n<text text-anchor=\"start\" x=\"141.5\" y=\"-544\" font-family=\"Linux libertine\" font-size=\"10.00\">(256, 2352) </text>\n</g>\n<!-- 5&#45;&gt;6 -->\n<g id=\"edge6\" class=\"edge\">\n<title>5&#45;&gt;6</title>\n<path fill=\"none\" stroke=\"black\" d=\"M121.5,-613.63C121.5,-605.82 121.5,-596.73 121.5,-588.18\"/>\n<polygon fill=\"black\" stroke=\"black\" points=\"125,-588.16 121.5,-578.16 118,-588.16 125,-588.16\"/>\n</g>\n<!-- 7 -->\n<g id=\"node8\" class=\"node\">\n<title>7</title>\n<polygon fill=\"#c1ffc1\" stroke=\"transparent\" points=\"219,-500 24,-500 24,-458 219,-458 219,-500\"/>\n<polygon fill=\"none\" stroke=\"black\" points=\"24.5,-458 24.5,-500 77.5,-500 77.5,-458 24.5,-458\"/>\n<text text-anchor=\"start\" x=\"32.5\" y=\"-482\" font-family=\"Linux libertine\" font-size=\"10.00\">Linear</text>\n<text text-anchor=\"start\" x=\"29.5\" y=\"-471\" font-family=\"Linux libertine\" font-size=\"10.00\">depth:1</text>\n<polygon fill=\"none\" stroke=\"black\" points=\"77.5,-479 77.5,-500 136.5,-500 136.5,-479 77.5,-479\"/>\n<text text-anchor=\"start\" x=\"88.5\" y=\"-487\" font-family=\"Linux libertine\" font-size=\"10.00\">input:</text>\n<polygon fill=\"none\" stroke=\"black\" points=\"136.5,-479 136.5,-500 219.5,-500 219.5,-479 136.5,-479\"/>\n<text text-anchor=\"start\" x=\"141.5\" y=\"-487\" font-family=\"Linux libertine\" font-size=\"10.00\">(256, 2352) </text>\n<polygon fill=\"none\" stroke=\"black\" points=\"77.5,-458 77.5,-479 136.5,-479 136.5,-458 77.5,-458\"/>\n<text text-anchor=\"start\" x=\"82.5\" y=\"-466\" font-family=\"Linux libertine\" font-size=\"10.00\">output: </text>\n<polygon fill=\"none\" stroke=\"black\" points=\"136.5,-458 136.5,-479 219.5,-479 219.5,-458 136.5,-458\"/>\n<text text-anchor=\"start\" x=\"141.5\" y=\"-466\" font-family=\"Linux libertine\" font-size=\"10.00\">(256, 1024) </text>\n</g>\n<!-- 6&#45;&gt;7 -->\n<g id=\"edge7\" class=\"edge\">\n<title>6&#45;&gt;7</title>\n<path fill=\"none\" stroke=\"black\" d=\"M121.5,-535.63C121.5,-527.82 121.5,-518.73 121.5,-510.18\"/>\n<polygon fill=\"black\" stroke=\"black\" points=\"125,-510.16 121.5,-500.16 118,-510.16 125,-510.16\"/>\n</g>\n<!-- 8 -->\n<g id=\"node9\" class=\"node\">\n<title>8</title>\n<polygon fill=\"#c1ffc1\" stroke=\"transparent\" points=\"219,-422 24,-422 24,-380 219,-380 219,-422\"/>\n<polygon fill=\"none\" stroke=\"black\" points=\"24.5,-380 24.5,-422 77.5,-422 77.5,-380 24.5,-380\"/>\n<text text-anchor=\"start\" x=\"38.5\" y=\"-404\" font-family=\"Linux libertine\" font-size=\"10.00\">ReLU</text>\n<text text-anchor=\"start\" x=\"29.5\" y=\"-393\" font-family=\"Linux libertine\" font-size=\"10.00\">depth:1</text>\n<polygon fill=\"none\" stroke=\"black\" points=\"77.5,-401 77.5,-422 136.5,-422 136.5,-401 77.5,-401\"/>\n<text text-anchor=\"start\" x=\"88.5\" y=\"-409\" font-family=\"Linux libertine\" font-size=\"10.00\">input:</text>\n<polygon fill=\"none\" stroke=\"black\" points=\"136.5,-401 136.5,-422 219.5,-422 219.5,-401 136.5,-401\"/>\n<text text-anchor=\"start\" x=\"141.5\" y=\"-409\" font-family=\"Linux libertine\" font-size=\"10.00\">(256, 1024) </text>\n<polygon fill=\"none\" stroke=\"black\" points=\"77.5,-380 77.5,-401 136.5,-401 136.5,-380 77.5,-380\"/>\n<text text-anchor=\"start\" x=\"82.5\" y=\"-388\" font-family=\"Linux libertine\" font-size=\"10.00\">output: </text>\n<polygon fill=\"none\" stroke=\"black\" points=\"136.5,-380 136.5,-401 219.5,-401 219.5,-380 136.5,-380\"/>\n<text text-anchor=\"start\" x=\"141.5\" y=\"-388\" font-family=\"Linux libertine\" font-size=\"10.00\">(256, 1024) </text>\n</g>\n<!-- 7&#45;&gt;8 -->\n<g id=\"edge8\" class=\"edge\">\n<title>7&#45;&gt;8</title>\n<path fill=\"none\" stroke=\"black\" d=\"M121.5,-457.63C121.5,-449.82 121.5,-440.73 121.5,-432.18\"/>\n<polygon fill=\"black\" stroke=\"black\" points=\"125,-432.16 121.5,-422.16 118,-432.16 125,-432.16\"/>\n</g>\n<!-- 9 -->\n<g id=\"node10\" class=\"node\">\n<title>9</title>\n<polygon fill=\"#c1ffc1\" stroke=\"transparent\" points=\"219,-344 24,-344 24,-302 219,-302 219,-344\"/>\n<polygon fill=\"none\" stroke=\"black\" points=\"24.5,-302 24.5,-344 77.5,-344 77.5,-302 24.5,-302\"/>\n<text text-anchor=\"start\" x=\"32.5\" y=\"-326\" font-family=\"Linux libertine\" font-size=\"10.00\">Linear</text>\n<text text-anchor=\"start\" x=\"29.5\" y=\"-315\" font-family=\"Linux libertine\" font-size=\"10.00\">depth:1</text>\n<polygon fill=\"none\" stroke=\"black\" points=\"77.5,-323 77.5,-344 136.5,-344 136.5,-323 77.5,-323\"/>\n<text text-anchor=\"start\" x=\"88.5\" y=\"-331\" font-family=\"Linux libertine\" font-size=\"10.00\">input:</text>\n<polygon fill=\"none\" stroke=\"black\" points=\"136.5,-323 136.5,-344 219.5,-344 219.5,-323 136.5,-323\"/>\n<text text-anchor=\"start\" x=\"141.5\" y=\"-331\" font-family=\"Linux libertine\" font-size=\"10.00\">(256, 1024) </text>\n<polygon fill=\"none\" stroke=\"black\" points=\"77.5,-302 77.5,-323 136.5,-323 136.5,-302 77.5,-302\"/>\n<text text-anchor=\"start\" x=\"82.5\" y=\"-310\" font-family=\"Linux libertine\" font-size=\"10.00\">output: </text>\n<polygon fill=\"none\" stroke=\"black\" points=\"136.5,-302 136.5,-323 219.5,-323 219.5,-302 136.5,-302\"/>\n<text text-anchor=\"start\" x=\"144.5\" y=\"-310\" font-family=\"Linux libertine\" font-size=\"10.00\">(256, 128) </text>\n</g>\n<!-- 8&#45;&gt;9 -->\n<g id=\"edge9\" class=\"edge\">\n<title>8&#45;&gt;9</title>\n<path fill=\"none\" stroke=\"black\" d=\"M121.5,-379.63C121.5,-371.82 121.5,-362.73 121.5,-354.18\"/>\n<polygon fill=\"black\" stroke=\"black\" points=\"125,-354.16 121.5,-344.16 118,-354.16 125,-354.16\"/>\n</g>\n<!-- 10 -->\n<g id=\"node11\" class=\"node\">\n<title>10</title>\n<polygon fill=\"#c1ffc1\" stroke=\"transparent\" points=\"216,-266 27,-266 27,-224 216,-224 216,-266\"/>\n<polygon fill=\"none\" stroke=\"black\" points=\"27.5,-224 27.5,-266 80.5,-266 80.5,-224 27.5,-224\"/>\n<text text-anchor=\"start\" x=\"41.5\" y=\"-248\" font-family=\"Linux libertine\" font-size=\"10.00\">ReLU</text>\n<text text-anchor=\"start\" x=\"32.5\" y=\"-237\" font-family=\"Linux libertine\" font-size=\"10.00\">depth:1</text>\n<polygon fill=\"none\" stroke=\"black\" points=\"80.5,-245 80.5,-266 139.5,-266 139.5,-245 80.5,-245\"/>\n<text text-anchor=\"start\" x=\"91.5\" y=\"-253\" font-family=\"Linux libertine\" font-size=\"10.00\">input:</text>\n<polygon fill=\"none\" stroke=\"black\" points=\"139.5,-245 139.5,-266 216.5,-266 216.5,-245 139.5,-245\"/>\n<text text-anchor=\"start\" x=\"144.5\" y=\"-253\" font-family=\"Linux libertine\" font-size=\"10.00\">(256, 128) </text>\n<polygon fill=\"none\" stroke=\"black\" points=\"80.5,-224 80.5,-245 139.5,-245 139.5,-224 80.5,-224\"/>\n<text text-anchor=\"start\" x=\"85.5\" y=\"-232\" font-family=\"Linux libertine\" font-size=\"10.00\">output: </text>\n<polygon fill=\"none\" stroke=\"black\" points=\"139.5,-224 139.5,-245 216.5,-245 216.5,-224 139.5,-224\"/>\n<text text-anchor=\"start\" x=\"144.5\" y=\"-232\" font-family=\"Linux libertine\" font-size=\"10.00\">(256, 128) </text>\n</g>\n<!-- 9&#45;&gt;10 -->\n<g id=\"edge10\" class=\"edge\">\n<title>9&#45;&gt;10</title>\n<path fill=\"none\" stroke=\"black\" d=\"M121.5,-301.63C121.5,-293.82 121.5,-284.73 121.5,-276.18\"/>\n<polygon fill=\"black\" stroke=\"black\" points=\"125,-276.16 121.5,-266.16 118,-276.16 125,-276.16\"/>\n</g>\n<!-- 11 -->\n<g id=\"node12\" class=\"node\">\n<title>11</title>\n<polygon fill=\"#c1ffc1\" stroke=\"transparent\" points=\"216,-188 27,-188 27,-146 216,-146 216,-188\"/>\n<polygon fill=\"none\" stroke=\"black\" points=\"27.5,-146 27.5,-188 80.5,-188 80.5,-146 27.5,-146\"/>\n<text text-anchor=\"start\" x=\"35.5\" y=\"-170\" font-family=\"Linux libertine\" font-size=\"10.00\">Linear</text>\n<text text-anchor=\"start\" x=\"32.5\" y=\"-159\" font-family=\"Linux libertine\" font-size=\"10.00\">depth:1</text>\n<polygon fill=\"none\" stroke=\"black\" points=\"80.5,-167 80.5,-188 139.5,-188 139.5,-167 80.5,-167\"/>\n<text text-anchor=\"start\" x=\"91.5\" y=\"-175\" font-family=\"Linux libertine\" font-size=\"10.00\">input:</text>\n<polygon fill=\"none\" stroke=\"black\" points=\"139.5,-167 139.5,-188 216.5,-188 216.5,-167 139.5,-167\"/>\n<text text-anchor=\"start\" x=\"144.5\" y=\"-175\" font-family=\"Linux libertine\" font-size=\"10.00\">(256, 128) </text>\n<polygon fill=\"none\" stroke=\"black\" points=\"80.5,-146 80.5,-167 139.5,-167 139.5,-146 80.5,-146\"/>\n<text text-anchor=\"start\" x=\"85.5\" y=\"-154\" font-family=\"Linux libertine\" font-size=\"10.00\">output: </text>\n<polygon fill=\"none\" stroke=\"black\" points=\"139.5,-146 139.5,-167 216.5,-167 216.5,-146 139.5,-146\"/>\n<text text-anchor=\"start\" x=\"147.5\" y=\"-154\" font-family=\"Linux libertine\" font-size=\"10.00\">(256, 10) </text>\n</g>\n<!-- 10&#45;&gt;11 -->\n<g id=\"edge11\" class=\"edge\">\n<title>10&#45;&gt;11</title>\n<path fill=\"none\" stroke=\"black\" d=\"M121.5,-223.63C121.5,-215.82 121.5,-206.73 121.5,-198.18\"/>\n<polygon fill=\"black\" stroke=\"black\" points=\"125,-198.16 121.5,-188.16 118,-198.16 125,-198.16\"/>\n</g>\n<!-- 12 -->\n<g id=\"node13\" class=\"node\">\n<title>12</title>\n<polygon fill=\"#c1ffc1\" stroke=\"transparent\" points=\"213,-110 30,-110 30,-68 213,-68 213,-110\"/>\n<polygon fill=\"none\" stroke=\"black\" points=\"30.5,-68 30.5,-110 83.5,-110 83.5,-68 30.5,-68\"/>\n<text text-anchor=\"start\" x=\"35.5\" y=\"-92\" font-family=\"Linux libertine\" font-size=\"10.00\">Softmax</text>\n<text text-anchor=\"start\" x=\"35.5\" y=\"-81\" font-family=\"Linux libertine\" font-size=\"10.00\">depth:1</text>\n<polygon fill=\"none\" stroke=\"black\" points=\"83.5,-89 83.5,-110 142.5,-110 142.5,-89 83.5,-89\"/>\n<text text-anchor=\"start\" x=\"94.5\" y=\"-97\" font-family=\"Linux libertine\" font-size=\"10.00\">input:</text>\n<polygon fill=\"none\" stroke=\"black\" points=\"142.5,-89 142.5,-110 213.5,-110 213.5,-89 142.5,-89\"/>\n<text text-anchor=\"start\" x=\"147.5\" y=\"-97\" font-family=\"Linux libertine\" font-size=\"10.00\">(256, 10) </text>\n<polygon fill=\"none\" stroke=\"black\" points=\"83.5,-68 83.5,-89 142.5,-89 142.5,-68 83.5,-68\"/>\n<text text-anchor=\"start\" x=\"88.5\" y=\"-76\" font-family=\"Linux libertine\" font-size=\"10.00\">output: </text>\n<polygon fill=\"none\" stroke=\"black\" points=\"142.5,-68 142.5,-89 213.5,-89 213.5,-68 142.5,-68\"/>\n<text text-anchor=\"start\" x=\"147.5\" y=\"-76\" font-family=\"Linux libertine\" font-size=\"10.00\">(256, 10) </text>\n</g>\n<!-- 11&#45;&gt;12 -->\n<g id=\"edge12\" class=\"edge\">\n<title>11&#45;&gt;12</title>\n<path fill=\"none\" stroke=\"black\" d=\"M121.5,-145.63C121.5,-137.82 121.5,-128.73 121.5,-120.18\"/>\n<polygon fill=\"black\" stroke=\"black\" points=\"125,-120.16 121.5,-110.16 118,-120.16 125,-120.16\"/>\n</g>\n<!-- 13 -->\n<g id=\"node14\" class=\"node\">\n<title>13</title>\n<polygon fill=\"lightyellow\" stroke=\"transparent\" points=\"198.5,-32 44.5,-32 44.5,0 198.5,0 198.5,-32\"/>\n<polygon fill=\"none\" stroke=\"black\" points=\"44.5,0 44.5,-32 133.5,-32 133.5,0 44.5,0\"/>\n<text text-anchor=\"start\" x=\"49.5\" y=\"-19\" font-family=\"Linux libertine\" font-size=\"10.00\">output&#45;tensor</text>\n<text text-anchor=\"start\" x=\"67.5\" y=\"-8\" font-family=\"Linux libertine\" font-size=\"10.00\">depth:0</text>\n<polygon fill=\"none\" stroke=\"black\" points=\"133.5,0 133.5,-32 198.5,-32 198.5,0 133.5,0\"/>\n<text text-anchor=\"start\" x=\"138.5\" y=\"-13.5\" font-family=\"Linux libertine\" font-size=\"10.00\">(256, 10)</text>\n</g>\n<!-- 12&#45;&gt;13 -->\n<g id=\"edge13\" class=\"edge\">\n<title>12&#45;&gt;13</title>\n<path fill=\"none\" stroke=\"black\" d=\"M121.5,-67.84C121.5,-59.89 121.5,-50.66 121.5,-42.26\"/>\n<polygon fill=\"black\" stroke=\"black\" points=\"125,-42.24 121.5,-32.24 118,-42.24 125,-42.24\"/>\n</g>\n</g>\n</svg>\n",
            "text/plain": [
              "<graphviz.graphs.Digraph at 0x7d34fcaa2dd0>"
            ]
          },
          "metadata": {},
          "execution_count": 19
        }
      ]
    },
    {
      "cell_type": "code",
      "source": [
        "images, labels = next(iter(trainloader))\n",
        "images.shape, labels.shape"
      ],
      "metadata": {
        "colab": {
          "base_uri": "https://localhost:8080/"
        },
        "id": "r2k2NZQm68yo",
        "outputId": "3bab845f-76f5-4795-9c07-d12d2ce87adf"
      },
      "execution_count": 20,
      "outputs": [
        {
          "output_type": "execute_result",
          "data": {
            "text/plain": [
              "(torch.Size([256, 3, 32, 32]), torch.Size([256]))"
            ]
          },
          "metadata": {},
          "execution_count": 20
        }
      ]
    },
    {
      "cell_type": "code",
      "source": [
        "start = time()\n",
        "## mini-batch-training\n",
        "\n",
        "for epoch in tqdm(range(epochs)):\n",
        "    n_correct = 0\n",
        "    total_loss = 0.0\n",
        "    for idx, data in enumerate(trainloader):\n",
        "        optimizer.zero_grad() # gradient 초기화.\n",
        "\n",
        "        #### feed forward ####\n",
        "        images, labels = data[0].to(device), data[1].to(device) # GPU version\n",
        "        outputs = model(images) # forward(x)\n",
        "        loss = criterion(outputs, labels) # compute loss (tensor)\n",
        "        n_correct = n_correct + (torch.max(model(images), dim=1)[1] == labels).sum() # batch당 맞은 개수\n",
        "        total_loss += loss.item()\n",
        "\n",
        "        #### back propagation ####\n",
        "        loss.backward() # loss를 가지고 backprop\n",
        "        optimizer.step() # SGD를 이용해서 weight update를 수행함.\n",
        "    print(f'Epoch {epoch}, Train Accuracy : {n_correct/len(trainset):4f}\\\n",
        "                          | Train (average)Loss : {total_loss/len(trainloader):4f}')\n",
        "\n",
        "end = time()\n",
        "\n",
        "print(\"Training Done.\")\n",
        "print(f\"Elasped Time : {end-start:.4f} secs.\")"
      ],
      "metadata": {
        "id": "av0_AB3EyEsG",
        "colab": {
          "base_uri": "https://localhost:8080/",
          "height": 272,
          "referenced_widgets": [
            "51ec1741b98b4befa485172e17e8af9e",
            "e004ade09c664a68a081645d20316b09",
            "4b0859bdbfff40419d858218ac331524",
            "3f5f354cef9342df95e23d42cff120b4",
            "001025ab39714432bff0395e5a1c36e4",
            "456a7947218e472285d40e6e3017fae1",
            "3bd4917579aa4dceb01808b60b31e173",
            "a5b953f0f11f4441b74b135c36e6b73f",
            "a1845bcec5e54715bdde9422cf925c2e",
            "1ac6655793c7479d8229fe224d5f5b77",
            "5f73f92aa2d34be7882e618508aa12e3"
          ]
        },
        "outputId": "e08fb554-2d12-4d97-e3ae-5ea375f4b2b9"
      },
      "execution_count": 21,
      "outputs": [
        {
          "output_type": "display_data",
          "data": {
            "text/plain": [
              "  0%|          | 0/10 [00:00<?, ?it/s]"
            ],
            "application/vnd.jupyter.widget-view+json": {
              "version_major": 2,
              "version_minor": 0,
              "model_id": "51ec1741b98b4befa485172e17e8af9e"
            }
          },
          "metadata": {}
        },
        {
          "output_type": "stream",
          "name": "stdout",
          "text": [
            "Epoch 0, Train Accuracy : 0.325320                          | Train (average)Loss : 2.128816\n",
            "Epoch 1, Train Accuracy : 0.452120                          | Train (average)Loss : 2.006916\n",
            "Epoch 2, Train Accuracy : 0.501120                          | Train (average)Loss : 1.957540\n",
            "Epoch 3, Train Accuracy : 0.538980                          | Train (average)Loss : 1.920949\n",
            "Epoch 4, Train Accuracy : 0.569880                          | Train (average)Loss : 1.890937\n",
            "Epoch 5, Train Accuracy : 0.600180                          | Train (average)Loss : 1.862618\n",
            "Epoch 6, Train Accuracy : 0.620880                          | Train (average)Loss : 1.841213\n",
            "Epoch 7, Train Accuracy : 0.652480                          | Train (average)Loss : 1.811327\n",
            "Epoch 8, Train Accuracy : 0.675160                          | Train (average)Loss : 1.789254\n",
            "Epoch 9, Train Accuracy : 0.703100                          | Train (average)Loss : 1.762094\n",
            "Training Done.\n",
            "Elasped Time : 149.8944 secs.\n"
          ]
        }
      ]
    },
    {
      "cell_type": "markdown",
      "source": [
        "### 5. 학습한 모델로 예측\n",
        "\n",
        "- 학습한 model을 가지고 test data를 예측합니다.\n",
        "\n",
        "- 예측 성능을 높이는 것이 학습의 목표이기 때문에, 학습되는 상황과 비교하여 잘 나오는 것을 확인해야 합니다.\n",
        "\n",
        "\n",
        "- 예측도 직접 구현하여 확인할 수 있습니다."
      ],
      "metadata": {
        "id": "xm0uodDi3jj_"
      }
    },
    {
      "cell_type": "code",
      "source": [
        "dataiter = iter(testloader)\n",
        "images, labels = next(dataiter)\n",
        "images.shape, labels.shape"
      ],
      "metadata": {
        "id": "lYJ3RmN6zndo",
        "colab": {
          "base_uri": "https://localhost:8080/"
        },
        "outputId": "97e3f12c-83c6-46c6-dd9e-d3fc3d625da2"
      },
      "execution_count": 22,
      "outputs": [
        {
          "output_type": "execute_result",
          "data": {
            "text/plain": [
              "(torch.Size([256, 3, 32, 32]), torch.Size([256]))"
            ]
          },
          "metadata": {},
          "execution_count": 22
        }
      ]
    },
    {
      "cell_type": "code",
      "source": [
        "# # 예측 연산은 출력된 결과값중에서 argmax를 찾는 방식으로 수행됩니다.\n",
        "# outputs = model(images)\n",
        "# preds = torch.max(outputs, dim=1)[1]\n",
        "# (preds == labels).sum() / batch_size\n",
        "# #outputs.shape # 4장의 데이터에 대해서 10개 숫자.\n",
        "\n",
        "# # # or\n",
        "# # print(\"Predicted: \", ' '.join(f'{classes[predicted[j]]:5s}' for j in range(batch_size)))"
      ],
      "metadata": {
        "id": "dm3Emi7G43gq"
      },
      "execution_count": 23,
      "outputs": []
    },
    {
      "cell_type": "code",
      "source": [
        "# make prediction for each class\n",
        "correct_pred = {classname: 0 for classname in classes}\n",
        "total_pred = {classname: 0 for classname in classes}\n",
        "\n",
        "# weight update를 하지 않는 모드 (inference only)\n",
        "with torch.no_grad(): # test time 때, local gradient를 따로 저장하지 않음. (속도, 메모리)\n",
        "    n_correct = 0\n",
        "    total_loss = 0.0\n",
        "\n",
        "    for idx, data in enumerate(testloader):\n",
        "        images, labels = data[0].to(device), data[1].to(device)\n",
        "        outputs = model(images)\n",
        "        loss = criterion(outputs, labels)\n",
        "        preds = torch.max(outputs, dim=1)[1]\n",
        "        n_correct += (preds == labels).sum()\n",
        "        total_loss += loss.item()\n",
        "    print(f'Test Accuracy : {n_correct/len(testset):4f} | Test (average) Loss : {total_loss/len(testloader):4f}')\n",
        "\n",
        "\n",
        "\n",
        "# for classname, correct_count in correct_pred.items():\n",
        "#     accuracy = 100 * float(correct_count) / total_pred[classname]\n",
        "#     print(f\"Accuracy for class: {classname:5s} is {accuracy:.1f} %\")"
      ],
      "metadata": {
        "id": "MEmb_c0-5052",
        "colab": {
          "base_uri": "https://localhost:8080/"
        },
        "outputId": "de37372e-3c42-4965-80a7-8f09d13cd675"
      },
      "execution_count": 24,
      "outputs": [
        {
          "output_type": "stream",
          "name": "stdout",
          "text": [
            "Test Accuracy : 0.615600 | Test (average) Loss : 1.845277\n"
          ]
        }
      ]
    },
    {
      "cell_type": "code",
      "source": [
        "sum([class_[1] for class_ in correct_pred.items()]) / 10000 * 100"
      ],
      "metadata": {
        "id": "Xsbrmyy2222V",
        "colab": {
          "base_uri": "https://localhost:8080/"
        },
        "outputId": "de861f0c-2dfa-439e-bdea-ab467e4c1306"
      },
      "execution_count": 25,
      "outputs": [
        {
          "output_type": "execute_result",
          "data": {
            "text/plain": [
              "0.0"
            ]
          },
          "metadata": {},
          "execution_count": 25
        }
      ]
    },
    {
      "cell_type": "markdown",
      "source": [
        "### Go Further?\n",
        "\n",
        "- GPU를 켜서 수행해봅시다.\n",
        "\n",
        "\n",
        "- 사실 딥러닝을 할 때는 무조건 GPU를 사용합니다.\n",
        "\n",
        "\n",
        "- pytorch에서 GPU를 사용하기 위해서는 device를 정의한 후, device에 연산에 필요한 모델, 데이터를 보내는 것으로 자동으로 GPU acceleration이 일어나게 만듭니다.\n",
        "\n",
        "\n",
        "- **.to(device)** 로 해당 모델과 데이터를 GPU로 보낼 수 있습니다."
      ],
      "metadata": {
        "id": "2dZW-jLQ6rNf"
      }
    },
    {
      "cell_type": "code",
      "source": [
        "# cuda가 있다는건 nvidia GPU가 있는 session을 쓰고 있다는 뜻.\n"
      ],
      "metadata": {
        "id": "PfAf4rt26mC2"
      },
      "execution_count": 26,
      "outputs": []
    },
    {
      "cell_type": "code",
      "source": [],
      "metadata": {
        "id": "Sroe93mjpVE9"
      },
      "execution_count": 26,
      "outputs": []
    }
  ]
}